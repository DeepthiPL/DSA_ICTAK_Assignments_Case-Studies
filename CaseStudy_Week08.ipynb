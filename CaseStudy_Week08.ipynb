{
 "cells": [
  {
   "cell_type": "markdown",
   "id": "a6aa0d5f",
   "metadata": {},
   "source": [
    "# Week08_Case Study on Testing of Hypothesis\n",
    "\n",
    "#### A company started to invest in digital marketing as a new way of their product promotions. For that they collected data and decided to carry out a study on it.\n",
    "#### ● The company wishes to clarify whether there is any increase in sales after stepping into digital marketing.\n",
    "#### ● The company needs to check whether there is any dependency between the features “Region” and “Manager”.\n",
    "\n",
    "#### Help the company to carry out their study with the help of data provided."
   ]
  },
  {
   "cell_type": "code",
   "execution_count": 1,
   "id": "27f89505",
   "metadata": {},
   "outputs": [],
   "source": [
    "import numpy as np\n",
    "import pandas as pd"
   ]
  },
  {
   "cell_type": "code",
   "execution_count": 2,
   "id": "fb6bd6f9",
   "metadata": {
    "scrolled": true
   },
   "outputs": [
    {
     "data": {
      "text/html": [
       "<div>\n",
       "<style scoped>\n",
       "    .dataframe tbody tr th:only-of-type {\n",
       "        vertical-align: middle;\n",
       "    }\n",
       "\n",
       "    .dataframe tbody tr th {\n",
       "        vertical-align: top;\n",
       "    }\n",
       "\n",
       "    .dataframe thead th {\n",
       "        text-align: right;\n",
       "    }\n",
       "</style>\n",
       "<table border=\"1\" class=\"dataframe\">\n",
       "  <thead>\n",
       "    <tr style=\"text-align: right;\">\n",
       "      <th></th>\n",
       "      <th>Month</th>\n",
       "      <th>Region</th>\n",
       "      <th>Manager</th>\n",
       "      <th>Sales_before_digital_add(in $)</th>\n",
       "      <th>Sales_After_digital_add(in $)</th>\n",
       "    </tr>\n",
       "  </thead>\n",
       "  <tbody>\n",
       "    <tr>\n",
       "      <th>0</th>\n",
       "      <td>Month-1</td>\n",
       "      <td>Region - A</td>\n",
       "      <td>Manager - A</td>\n",
       "      <td>132921</td>\n",
       "      <td>270390</td>\n",
       "    </tr>\n",
       "    <tr>\n",
       "      <th>1</th>\n",
       "      <td>Month-2</td>\n",
       "      <td>Region - A</td>\n",
       "      <td>Manager - C</td>\n",
       "      <td>149559</td>\n",
       "      <td>223334</td>\n",
       "    </tr>\n",
       "    <tr>\n",
       "      <th>2</th>\n",
       "      <td>Month-3</td>\n",
       "      <td>Region - B</td>\n",
       "      <td>Manager - A</td>\n",
       "      <td>146278</td>\n",
       "      <td>244243</td>\n",
       "    </tr>\n",
       "    <tr>\n",
       "      <th>3</th>\n",
       "      <td>Month-4</td>\n",
       "      <td>Region - B</td>\n",
       "      <td>Manager - B</td>\n",
       "      <td>152167</td>\n",
       "      <td>231808</td>\n",
       "    </tr>\n",
       "    <tr>\n",
       "      <th>4</th>\n",
       "      <td>Month-5</td>\n",
       "      <td>Region - C</td>\n",
       "      <td>Manager - B</td>\n",
       "      <td>159525</td>\n",
       "      <td>258402</td>\n",
       "    </tr>\n",
       "  </tbody>\n",
       "</table>\n",
       "</div>"
      ],
      "text/plain": [
       "     Month      Region      Manager  Sales_before_digital_add(in $)  \\\n",
       "0  Month-1  Region - A  Manager - A                          132921   \n",
       "1  Month-2  Region - A  Manager - C                          149559   \n",
       "2  Month-3  Region - B  Manager - A                          146278   \n",
       "3  Month-4  Region - B  Manager - B                          152167   \n",
       "4  Month-5  Region - C  Manager - B                          159525   \n",
       "\n",
       "   Sales_After_digital_add(in $)  \n",
       "0                         270390  \n",
       "1                         223334  \n",
       "2                         244243  \n",
       "3                         231808  \n",
       "4                         258402  "
      ]
     },
     "execution_count": 2,
     "metadata": {},
     "output_type": "execute_result"
    }
   ],
   "source": [
    "data=pd.read_csv('Sales_add.csv')\n",
    "data.head()"
   ]
  },
  {
   "cell_type": "code",
   "execution_count": 3,
   "id": "89e69e02",
   "metadata": {},
   "outputs": [
    {
     "data": {
      "text/plain": [
       "(22, 5)"
      ]
     },
     "execution_count": 3,
     "metadata": {},
     "output_type": "execute_result"
    }
   ],
   "source": [
    "data.shape"
   ]
  },
  {
   "cell_type": "code",
   "execution_count": 4,
   "id": "780b152d",
   "metadata": {
    "scrolled": true
   },
   "outputs": [
    {
     "name": "stdout",
     "output_type": "stream",
     "text": [
      "<class 'pandas.core.frame.DataFrame'>\n",
      "RangeIndex: 22 entries, 0 to 21\n",
      "Data columns (total 5 columns):\n",
      " #   Column                          Non-Null Count  Dtype \n",
      "---  ------                          --------------  ----- \n",
      " 0   Month                           22 non-null     object\n",
      " 1   Region                          22 non-null     object\n",
      " 2   Manager                         22 non-null     object\n",
      " 3   Sales_before_digital_add(in $)  22 non-null     int64 \n",
      " 4   Sales_After_digital_add(in $)   22 non-null     int64 \n",
      "dtypes: int64(2), object(3)\n",
      "memory usage: 1008.0+ bytes\n"
     ]
    }
   ],
   "source": [
    "data.info()"
   ]
  },
  {
   "cell_type": "code",
   "execution_count": 5,
   "id": "8d4c179b",
   "metadata": {},
   "outputs": [
    {
     "data": {
      "text/html": [
       "<div>\n",
       "<style scoped>\n",
       "    .dataframe tbody tr th:only-of-type {\n",
       "        vertical-align: middle;\n",
       "    }\n",
       "\n",
       "    .dataframe tbody tr th {\n",
       "        vertical-align: top;\n",
       "    }\n",
       "\n",
       "    .dataframe thead th {\n",
       "        text-align: right;\n",
       "    }\n",
       "</style>\n",
       "<table border=\"1\" class=\"dataframe\">\n",
       "  <thead>\n",
       "    <tr style=\"text-align: right;\">\n",
       "      <th></th>\n",
       "      <th>Sales_before_digital_add(in $)</th>\n",
       "      <th>Sales_After_digital_add(in $)</th>\n",
       "    </tr>\n",
       "  </thead>\n",
       "  <tbody>\n",
       "    <tr>\n",
       "      <th>count</th>\n",
       "      <td>22.000000</td>\n",
       "      <td>22.000000</td>\n",
       "    </tr>\n",
       "    <tr>\n",
       "      <th>mean</th>\n",
       "      <td>149239.954545</td>\n",
       "      <td>231123.727273</td>\n",
       "    </tr>\n",
       "    <tr>\n",
       "      <th>std</th>\n",
       "      <td>14844.042921</td>\n",
       "      <td>25556.777061</td>\n",
       "    </tr>\n",
       "    <tr>\n",
       "      <th>min</th>\n",
       "      <td>130263.000000</td>\n",
       "      <td>187305.000000</td>\n",
       "    </tr>\n",
       "    <tr>\n",
       "      <th>25%</th>\n",
       "      <td>138087.750000</td>\n",
       "      <td>214960.750000</td>\n",
       "    </tr>\n",
       "    <tr>\n",
       "      <th>50%</th>\n",
       "      <td>147444.000000</td>\n",
       "      <td>229986.500000</td>\n",
       "    </tr>\n",
       "    <tr>\n",
       "      <th>75%</th>\n",
       "      <td>157627.500000</td>\n",
       "      <td>250909.000000</td>\n",
       "    </tr>\n",
       "    <tr>\n",
       "      <th>max</th>\n",
       "      <td>178939.000000</td>\n",
       "      <td>276279.000000</td>\n",
       "    </tr>\n",
       "  </tbody>\n",
       "</table>\n",
       "</div>"
      ],
      "text/plain": [
       "       Sales_before_digital_add(in $)  Sales_After_digital_add(in $)\n",
       "count                       22.000000                      22.000000\n",
       "mean                    149239.954545                  231123.727273\n",
       "std                      14844.042921                   25556.777061\n",
       "min                     130263.000000                  187305.000000\n",
       "25%                     138087.750000                  214960.750000\n",
       "50%                     147444.000000                  229986.500000\n",
       "75%                     157627.500000                  250909.000000\n",
       "max                     178939.000000                  276279.000000"
      ]
     },
     "execution_count": 5,
     "metadata": {},
     "output_type": "execute_result"
    }
   ],
   "source": [
    "data.describe()"
   ]
  },
  {
   "cell_type": "markdown",
   "id": "d70cb466",
   "metadata": {},
   "source": [
    "# The company wishes to clarify whether there is any increase in sales after stepping into digital marketing."
   ]
  },
  {
   "cell_type": "markdown",
   "id": "36a9db5d",
   "metadata": {},
   "source": [
    "#### Level of significance, alpha = 95% (0.05)\n",
    "\n",
    "#### The two hypotheses for this particular two sample t-test are as follows:\n",
    "\n",
    "#### Null Hypothesis, H0 : µ1 >= µ2 (no increase in sales after stepping into digital marketing)\n",
    "\n",
    "#### Alternative Hypothesis, HA : µ1 < µ2 (increase in sales after stepping into digital marketing)"
   ]
  },
  {
   "cell_type": "code",
   "execution_count": 6,
   "id": "e854680c",
   "metadata": {},
   "outputs": [],
   "source": [
    "d1=data['Sales_before_digital_add(in $)']\n",
    "d2=data['Sales_After_digital_add(in $)']"
   ]
  },
  {
   "cell_type": "code",
   "execution_count": 7,
   "id": "850ed267",
   "metadata": {},
   "outputs": [
    {
     "data": {
      "text/plain": [
       "149239.95454545456"
      ]
     },
     "execution_count": 7,
     "metadata": {},
     "output_type": "execute_result"
    }
   ],
   "source": [
    "d1.mean()"
   ]
  },
  {
   "cell_type": "code",
   "execution_count": 8,
   "id": "13605e0a",
   "metadata": {},
   "outputs": [
    {
     "data": {
      "text/plain": [
       "231123.72727272726"
      ]
     },
     "execution_count": 8,
     "metadata": {},
     "output_type": "execute_result"
    }
   ],
   "source": [
    "d2.mean()"
   ]
  },
  {
   "cell_type": "markdown",
   "id": "4531ace4",
   "metadata": {},
   "source": [
    "#### 1 tailed 2 sample t-test"
   ]
  },
  {
   "cell_type": "code",
   "execution_count": 9,
   "id": "606db1ff",
   "metadata": {},
   "outputs": [
    {
     "data": {
      "text/plain": [
       "Ttest_indResult(statistic=-12.995084451110877, pvalue=2.614368006904645e-16)"
      ]
     },
     "metadata": {},
     "output_type": "display_data"
    }
   ],
   "source": [
    "import scipy.stats as stats\n",
    "\n",
    "test=stats.ttest_ind(d1, d2, equal_var=True)\n",
    "display(test)"
   ]
  },
  {
   "cell_type": "code",
   "execution_count": 10,
   "id": "918f1ec0",
   "metadata": {},
   "outputs": [
    {
     "name": "stdout",
     "output_type": "stream",
     "text": [
      "p-value is :  1.3071840034523225e-16\n"
     ]
    }
   ],
   "source": [
    "print(\"p-value is : \", 2.614368006904645e-16/2)"
   ]
  },
  {
   "cell_type": "markdown",
   "id": "8d51ede8",
   "metadata": {},
   "source": [
    "# Insights :\n",
    "\n",
    "#### Because the p-value of our test (1.3071840034523225e-16) is less than alpha = 0.05, we reject the null hypothesis of the test. That is, there is increase in sales after stepping into digital marketing."
   ]
  },
  {
   "cell_type": "markdown",
   "id": "a4a7b11f",
   "metadata": {},
   "source": [
    "# The company needs to check whether there is any dependency between the features “Region” and “Manager”."
   ]
  },
  {
   "cell_type": "markdown",
   "id": "ae7152c2",
   "metadata": {},
   "source": [
    "#### Level of significance, alpha = 95% (0.05)\n",
    "\n",
    "#### The two hypotheses for this particular two sample t-test are as follows:\n",
    "\n",
    "#### Null Hypothesis, H0 : no dependency between the features \"Region\" and \"Manager\"\n",
    "\n",
    "#### Alternative Hypothesis, HA : there is dependency between the features \"Region\" and \"Manager\""
   ]
  },
  {
   "cell_type": "code",
   "execution_count": 11,
   "id": "60799715",
   "metadata": {},
   "outputs": [
    {
     "name": "stdout",
     "output_type": "stream",
     "text": [
      "Manager     Manager - A  Manager - B  Manager - C\n",
      "Region                                           \n",
      "Region - A            4            3            3\n",
      "Region - B            4            1            2\n",
      "Region - C            1            3            1\n"
     ]
    }
   ],
   "source": [
    "dr=pd.crosstab(data['Region'], data['Manager'])\n",
    "print(dr)"
   ]
  },
  {
   "cell_type": "code",
   "execution_count": 12,
   "id": "9a3a1bb0",
   "metadata": {},
   "outputs": [
    {
     "name": "stdout",
     "output_type": "stream",
     "text": [
      "Observed Values :\n",
      " [[4 3 3]\n",
      " [4 1 2]\n",
      " [1 3 1]]\n"
     ]
    }
   ],
   "source": [
    "Observed_Values=dr.values\n",
    "print(\"Observed Values :\\n\", Observed_Values)"
   ]
  },
  {
   "cell_type": "code",
   "execution_count": 13,
   "id": "4053455b",
   "metadata": {},
   "outputs": [],
   "source": [
    "val=stats.chi2_contingency(dr)"
   ]
  },
  {
   "cell_type": "code",
   "execution_count": 14,
   "id": "bdf1d3cb",
   "metadata": {},
   "outputs": [
    {
     "data": {
      "text/plain": [
       "(3.050566893424036,\n",
       " 0.5493991051158094,\n",
       " 4,\n",
       " array([[4.09090909, 3.18181818, 2.72727273],\n",
       "        [2.86363636, 2.22727273, 1.90909091],\n",
       "        [2.04545455, 1.59090909, 1.36363636]]))"
      ]
     },
     "execution_count": 14,
     "metadata": {},
     "output_type": "execute_result"
    }
   ],
   "source": [
    "val"
   ]
  },
  {
   "cell_type": "code",
   "execution_count": 15,
   "id": "28595e11",
   "metadata": {},
   "outputs": [
    {
     "data": {
      "text/plain": [
       "array([[4.09090909, 3.18181818, 2.72727273],\n",
       "       [2.86363636, 2.22727273, 1.90909091],\n",
       "       [2.04545455, 1.59090909, 1.36363636]])"
      ]
     },
     "execution_count": 15,
     "metadata": {},
     "output_type": "execute_result"
    }
   ],
   "source": [
    "Expected_Values=val[3]\n",
    "Expected_Values"
   ]
  },
  {
   "cell_type": "code",
   "execution_count": 16,
   "id": "0d4a49dc",
   "metadata": {},
   "outputs": [
    {
     "name": "stdout",
     "output_type": "stream",
     "text": [
      "Degrees of freedom :  4\n"
     ]
    }
   ],
   "source": [
    "# Finding degrees of freedom\n",
    "\n",
    "no_of_rows=len(dr.iloc[0:3, 0])\n",
    "no_of_columns=len(dr.iloc[0, 0:3])\n",
    "ddof=(no_of_rows-1)*(no_of_columns-1)\n",
    "print(\"Degrees of freedom : \", ddof)\n",
    "alpha=0.05"
   ]
  },
  {
   "cell_type": "code",
   "execution_count": 17,
   "id": "4726c057",
   "metadata": {},
   "outputs": [],
   "source": [
    "# Finding Chi-Square statistic\n",
    "\n",
    "from scipy.stats import chi2\n",
    "chi_square=sum([(o-e)**2/e for o,e in zip(Observed_Values, Expected_Values)] )\n",
    "chi_square_statistic=chi_square[0]+chi_square[1]+chi_square[2]"
   ]
  },
  {
   "cell_type": "code",
   "execution_count": 18,
   "id": "8b6e596c",
   "metadata": {},
   "outputs": [
    {
     "name": "stdout",
     "output_type": "stream",
     "text": [
      "Chi-Square statistic :  3.0505668934240364\n"
     ]
    }
   ],
   "source": [
    "print(\"Chi-Square statistic : \", chi_square_statistic)"
   ]
  },
  {
   "cell_type": "code",
   "execution_count": 19,
   "id": "7e6cc7e4",
   "metadata": {},
   "outputs": [
    {
     "name": "stdout",
     "output_type": "stream",
     "text": [
      "Critical Value :  9.487729036781154\n"
     ]
    }
   ],
   "source": [
    "# Finding Critical Value\n",
    "\n",
    "critical_value=chi2.ppf(q=1-alpha, df=ddof)\n",
    "print(\"Critical Value : \", critical_value)"
   ]
  },
  {
   "cell_type": "code",
   "execution_count": 20,
   "id": "40428e87",
   "metadata": {},
   "outputs": [
    {
     "name": "stdout",
     "output_type": "stream",
     "text": [
      "p-value :  0.5493991051158094\n",
      "Significance Level :  0.05\n",
      "Degree of freedom :  4\n"
     ]
    }
   ],
   "source": [
    "# Finding p-value\n",
    "\n",
    "p_value=1-chi2.cdf(x=chi_square_statistic, df=ddof)\n",
    "print(\"p-value : \", p_value)\n",
    "print(\"Significance Level : \", alpha)\n",
    "print(\"Degree of freedom : \", ddof)"
   ]
  },
  {
   "cell_type": "code",
   "execution_count": 21,
   "id": "f616714a",
   "metadata": {},
   "outputs": [
    {
     "name": "stdout",
     "output_type": "stream",
     "text": [
      "On the basis of comparison between chi_square_statistic & critical_value : \n",
      "Retain H0 : There is no relationship between the features \"Region\" and \"Manager\"\n"
     ]
    }
   ],
   "source": [
    "# Comparing chi_square_statistic vs critical_value\n",
    "\n",
    "print(\"On the basis of comparison between chi_square_statistic & critical_value : \")\n",
    "if chi_square_statistic>=critical_value:\n",
    "    print('Reject H0 : There is a relationship between the features \"Region\" and \"Manager\"')\n",
    "else:\n",
    "    print('Retain H0 : There is no relationship between the features \"Region\" and \"Manager\"')"
   ]
  },
  {
   "cell_type": "code",
   "execution_count": 22,
   "id": "ea3ec052",
   "metadata": {},
   "outputs": [
    {
     "name": "stdout",
     "output_type": "stream",
     "text": [
      "On the basis of comparison between p_value & alpha : \n",
      "Retain H0 : There is no relationship between the features \"Region\" and \"Manager\"\n"
     ]
    }
   ],
   "source": [
    "# Comparing p_value vs alpha\n",
    "\n",
    "print(\"On the basis of comparison between p_value & alpha : \")\n",
    "if p_value<=alpha:\n",
    "    print('Reject H0 : There is a relationship between the features \"Region\" and \"Manager\"')\n",
    "else:\n",
    "    print('Retain H0 : There is no relationship between the features \"Region\" and \"Manager\"')"
   ]
  },
  {
   "cell_type": "markdown",
   "id": "bbf91fe4",
   "metadata": {},
   "source": [
    "# Insights :\n",
    "\n",
    "#### We have made comparison between the below 2 :\n",
    "#### a) chi_square_statistic vs critical_value\n",
    "#### b) p_value vs alpha\n",
    "\n",
    "#### Since chi_square_statistic is less than critical_value (p_value is greater than alpha), we fail to reject Null Hypothesis. That is , there is no relationship/dependency between the features \"Region\" and \"Manager\"."
   ]
  }
 ],
 "metadata": {
  "kernelspec": {
   "display_name": "Python 3",
   "language": "python",
   "name": "python3"
  },
  "language_info": {
   "codemirror_mode": {
    "name": "ipython",
    "version": 3
   },
   "file_extension": ".py",
   "mimetype": "text/x-python",
   "name": "python",
   "nbconvert_exporter": "python",
   "pygments_lexer": "ipython3",
   "version": "3.8.8"
  }
 },
 "nbformat": 4,
 "nbformat_minor": 5
}
