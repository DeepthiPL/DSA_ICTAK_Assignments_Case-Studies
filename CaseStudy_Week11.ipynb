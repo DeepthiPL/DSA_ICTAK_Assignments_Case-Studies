{
 "cells": [
  {
   "cell_type": "markdown",
   "id": "a88faa3d",
   "metadata": {},
   "source": [
    "# CaseStudy_Week11\n",
    "## Dataset Used : iris"
   ]
  },
  {
   "cell_type": "markdown",
   "id": "a5858df6",
   "metadata": {},
   "source": [
    "#### Do the following in the iris dataset.\n",
    "#### 1. Read the dataset to the python environment.\n",
    "#### 2. Do necessary pre-processing steps.\n",
    "#### 3. Find out which classification model gives the best result to predict iris species(also do random forest algorithm)."
   ]
  },
  {
   "cell_type": "code",
   "execution_count": 1,
   "id": "93148f89",
   "metadata": {},
   "outputs": [],
   "source": [
    "import pandas as pd\n",
    "import numpy as np\n",
    "import matplotlib.pyplot as plt\n",
    "import seaborn as sns"
   ]
  },
  {
   "cell_type": "markdown",
   "id": "a5eb3d1b",
   "metadata": {},
   "source": [
    "# 1. Read the dataset to the python environment."
   ]
  },
  {
   "cell_type": "code",
   "execution_count": 2,
   "id": "e549c899",
   "metadata": {},
   "outputs": [
    {
     "data": {
      "text/html": [
       "<div>\n",
       "<style scoped>\n",
       "    .dataframe tbody tr th:only-of-type {\n",
       "        vertical-align: middle;\n",
       "    }\n",
       "\n",
       "    .dataframe tbody tr th {\n",
       "        vertical-align: top;\n",
       "    }\n",
       "\n",
       "    .dataframe thead th {\n",
       "        text-align: right;\n",
       "    }\n",
       "</style>\n",
       "<table border=\"1\" class=\"dataframe\">\n",
       "  <thead>\n",
       "    <tr style=\"text-align: right;\">\n",
       "      <th></th>\n",
       "      <th>SL</th>\n",
       "      <th>SW</th>\n",
       "      <th>PL</th>\n",
       "      <th>PW</th>\n",
       "      <th>Classification</th>\n",
       "    </tr>\n",
       "  </thead>\n",
       "  <tbody>\n",
       "    <tr>\n",
       "      <th>0</th>\n",
       "      <td>5.1</td>\n",
       "      <td>3.5</td>\n",
       "      <td>1.4</td>\n",
       "      <td>0.2</td>\n",
       "      <td>Iris-setosa</td>\n",
       "    </tr>\n",
       "    <tr>\n",
       "      <th>1</th>\n",
       "      <td>4.9</td>\n",
       "      <td>3.0</td>\n",
       "      <td>1.4</td>\n",
       "      <td>0.2</td>\n",
       "      <td>Iris-setosa</td>\n",
       "    </tr>\n",
       "    <tr>\n",
       "      <th>2</th>\n",
       "      <td>NaN</td>\n",
       "      <td>3.2</td>\n",
       "      <td>1.3</td>\n",
       "      <td>0.2</td>\n",
       "      <td>Iris-setosa</td>\n",
       "    </tr>\n",
       "    <tr>\n",
       "      <th>3</th>\n",
       "      <td>4.6</td>\n",
       "      <td>3.1</td>\n",
       "      <td>1.5</td>\n",
       "      <td>0.2</td>\n",
       "      <td>Iris-setosa</td>\n",
       "    </tr>\n",
       "    <tr>\n",
       "      <th>4</th>\n",
       "      <td>5.0</td>\n",
       "      <td>3.6</td>\n",
       "      <td>1.4</td>\n",
       "      <td>0.2</td>\n",
       "      <td>Iris-setosa</td>\n",
       "    </tr>\n",
       "  </tbody>\n",
       "</table>\n",
       "</div>"
      ],
      "text/plain": [
       "    SL   SW   PL   PW Classification\n",
       "0  5.1  3.5  1.4  0.2    Iris-setosa\n",
       "1  4.9  3.0  1.4  0.2    Iris-setosa\n",
       "2  NaN  3.2  1.3  0.2    Iris-setosa\n",
       "3  4.6  3.1  1.5  0.2    Iris-setosa\n",
       "4  5.0  3.6  1.4  0.2    Iris-setosa"
      ]
     },
     "execution_count": 2,
     "metadata": {},
     "output_type": "execute_result"
    }
   ],
   "source": [
    "data = pd.read_excel(r'C:\\Users\\deepthi777\\Desktop\\iris.xls')\n",
    "data.head()"
   ]
  },
  {
   "cell_type": "code",
   "execution_count": 3,
   "id": "79ec3196",
   "metadata": {},
   "outputs": [
    {
     "data": {
      "text/plain": [
       "(150, 5)"
      ]
     },
     "execution_count": 3,
     "metadata": {},
     "output_type": "execute_result"
    }
   ],
   "source": [
    "data.shape"
   ]
  },
  {
   "cell_type": "code",
   "execution_count": 4,
   "id": "28f77fa0",
   "metadata": {
    "scrolled": true
   },
   "outputs": [
    {
     "data": {
      "text/html": [
       "<div>\n",
       "<style scoped>\n",
       "    .dataframe tbody tr th:only-of-type {\n",
       "        vertical-align: middle;\n",
       "    }\n",
       "\n",
       "    .dataframe tbody tr th {\n",
       "        vertical-align: top;\n",
       "    }\n",
       "\n",
       "    .dataframe thead th {\n",
       "        text-align: right;\n",
       "    }\n",
       "</style>\n",
       "<table border=\"1\" class=\"dataframe\">\n",
       "  <thead>\n",
       "    <tr style=\"text-align: right;\">\n",
       "      <th></th>\n",
       "      <th>SL</th>\n",
       "      <th>SW</th>\n",
       "      <th>PL</th>\n",
       "      <th>PW</th>\n",
       "      <th>Classification</th>\n",
       "    </tr>\n",
       "  </thead>\n",
       "  <tbody>\n",
       "    <tr>\n",
       "      <th>145</th>\n",
       "      <td>6.7</td>\n",
       "      <td>3.0</td>\n",
       "      <td>5.2</td>\n",
       "      <td>2.3</td>\n",
       "      <td>Iris-virginica</td>\n",
       "    </tr>\n",
       "    <tr>\n",
       "      <th>146</th>\n",
       "      <td>6.3</td>\n",
       "      <td>2.5</td>\n",
       "      <td>5.0</td>\n",
       "      <td>1.9</td>\n",
       "      <td>Iris-virginica</td>\n",
       "    </tr>\n",
       "    <tr>\n",
       "      <th>147</th>\n",
       "      <td>6.5</td>\n",
       "      <td>3.0</td>\n",
       "      <td>NaN</td>\n",
       "      <td>2.0</td>\n",
       "      <td>Iris-virginica</td>\n",
       "    </tr>\n",
       "    <tr>\n",
       "      <th>148</th>\n",
       "      <td>6.2</td>\n",
       "      <td>3.4</td>\n",
       "      <td>5.4</td>\n",
       "      <td>2.3</td>\n",
       "      <td>Iris-virginica</td>\n",
       "    </tr>\n",
       "    <tr>\n",
       "      <th>149</th>\n",
       "      <td>5.9</td>\n",
       "      <td>3.0</td>\n",
       "      <td>5.1</td>\n",
       "      <td>1.8</td>\n",
       "      <td>Iris-virginica</td>\n",
       "    </tr>\n",
       "  </tbody>\n",
       "</table>\n",
       "</div>"
      ],
      "text/plain": [
       "      SL   SW   PL   PW  Classification\n",
       "145  6.7  3.0  5.2  2.3  Iris-virginica\n",
       "146  6.3  2.5  5.0  1.9  Iris-virginica\n",
       "147  6.5  3.0  NaN  2.0  Iris-virginica\n",
       "148  6.2  3.4  5.4  2.3  Iris-virginica\n",
       "149  5.9  3.0  5.1  1.8  Iris-virginica"
      ]
     },
     "execution_count": 4,
     "metadata": {},
     "output_type": "execute_result"
    }
   ],
   "source": [
    "data.tail()"
   ]
  },
  {
   "cell_type": "code",
   "execution_count": 5,
   "id": "2ba3d3bb",
   "metadata": {},
   "outputs": [
    {
     "name": "stdout",
     "output_type": "stream",
     "text": [
      "<class 'pandas.core.frame.DataFrame'>\n",
      "RangeIndex: 150 entries, 0 to 149\n",
      "Data columns (total 5 columns):\n",
      " #   Column          Non-Null Count  Dtype  \n",
      "---  ------          --------------  -----  \n",
      " 0   SL              143 non-null    float64\n",
      " 1   SW              144 non-null    float64\n",
      " 2   PL              144 non-null    float64\n",
      " 3   PW              150 non-null    float64\n",
      " 4   Classification  150 non-null    object \n",
      "dtypes: float64(4), object(1)\n",
      "memory usage: 6.0+ KB\n"
     ]
    }
   ],
   "source": [
    "data.info()"
   ]
  },
  {
   "cell_type": "code",
   "execution_count": 6,
   "id": "309614f6",
   "metadata": {},
   "outputs": [
    {
     "data": {
      "text/plain": [
       "SL                7\n",
       "SW                6\n",
       "PL                6\n",
       "PW                0\n",
       "Classification    0\n",
       "dtype: int64"
      ]
     },
     "execution_count": 6,
     "metadata": {},
     "output_type": "execute_result"
    }
   ],
   "source": [
    "# checking for missing/null values\n",
    "\n",
    "data.isna().sum()"
   ]
  },
  {
   "cell_type": "markdown",
   "id": "61a37051",
   "metadata": {},
   "source": [
    "#### The given dataset contains 150 rows and 5 columns. There are null values in the dataset and the count of null values are as follows :\n",
    "#### SL - 7, SW - 6, PL - 6"
   ]
  },
  {
   "cell_type": "markdown",
   "id": "23c0bdb5",
   "metadata": {},
   "source": [
    "# 2. Do necessary pre-processing steps."
   ]
  },
  {
   "cell_type": "code",
   "execution_count": 7,
   "id": "5d76b3d1",
   "metadata": {},
   "outputs": [
    {
     "data": {
      "text/plain": [
       "SL                float64\n",
       "SW                float64\n",
       "PL                float64\n",
       "PW                float64\n",
       "Classification     object\n",
       "dtype: object"
      ]
     },
     "execution_count": 7,
     "metadata": {},
     "output_type": "execute_result"
    }
   ],
   "source": [
    "data.dtypes"
   ]
  },
  {
   "cell_type": "code",
   "execution_count": 8,
   "id": "a6bfd0af",
   "metadata": {},
   "outputs": [
    {
     "data": {
      "image/png": "[encoded data removed]",
      "text/plain": [
       "<Figure size 1440x1080 with 4 Axes>"
      ]
     },
     "metadata": {
      "needs_background": "light"
     },
     "output_type": "display_data"
    }
   ],
   "source": [
    "# plotting histogram to find skewness\n",
    "\n",
    "freqgraph=data.select_dtypes(include=['float'])\n",
    "freqgraph.hist(figsize=(20,15))\n",
    "plt.show()"
   ]
  },
  {
   "cell_type": "markdown",
   "id": "dbd68fff",
   "metadata": {},
   "source": [
    "#### i. Handling null values"
   ]
  },
  {
   "cell_type": "code",
   "execution_count": 9,
   "id": "6ef00632",
   "metadata": {},
   "outputs": [],
   "source": [
    "# filling the missing values using median\n",
    "\n",
    "data = data.fillna(data.median())"
   ]
  },
  {
   "cell_type": "code",
   "execution_count": 10,
   "id": "ba1a5a39",
   "metadata": {},
   "outputs": [
    {
     "data": {
      "text/plain": [
       "SL                0\n",
       "SW                0\n",
       "PL                0\n",
       "PW                0\n",
       "Classification    0\n",
       "dtype: int64"
      ]
     },
     "execution_count": 10,
     "metadata": {},
     "output_type": "execute_result"
    }
   ],
   "source": [
    "data.isna().sum()"
   ]
  },
  {
   "cell_type": "markdown",
   "id": "79cfb1fb",
   "metadata": {},
   "source": [
    "#### ii. Converting the categorical variable (Classification) to numerical variable using Label Encoding."
   ]
  },
  {
   "cell_type": "code",
   "execution_count": 11,
   "id": "1b29162d",
   "metadata": {
    "scrolled": true
   },
   "outputs": [
    {
     "data": {
      "text/plain": [
       "Iris-setosa        50\n",
       "Iris-versicolor    50\n",
       "Iris-virginica     50\n",
       "Name: Classification, dtype: int64"
      ]
     },
     "execution_count": 11,
     "metadata": {},
     "output_type": "execute_result"
    }
   ],
   "source": [
    "data['Classification'].value_counts()"
   ]
  },
  {
   "cell_type": "code",
   "execution_count": 12,
   "id": "3c1c434c",
   "metadata": {},
   "outputs": [],
   "source": [
    "# Label encoding is used here\n",
    "# One Hot Enocoding - won't work here as it would cause issues at the time of data splitting.\n",
    "\n",
    "from sklearn.preprocessing import LabelEncoder\n",
    "label_en = LabelEncoder()\n",
    "a = ['Classification']\n",
    "for i in np.arange(len(a)):\n",
    "     data[a[i]] = label_en.fit_transform(data[a[i]])"
   ]
  },
  {
   "cell_type": "code",
   "execution_count": 13,
   "id": "37a1a2d6",
   "metadata": {
    "scrolled": true
   },
   "outputs": [
    {
     "data": {
      "text/html": [
       "<div>\n",
       "<style scoped>\n",
       "    .dataframe tbody tr th:only-of-type {\n",
       "        vertical-align: middle;\n",
       "    }\n",
       "\n",
       "    .dataframe tbody tr th {\n",
       "        vertical-align: top;\n",
       "    }\n",
       "\n",
       "    .dataframe thead th {\n",
       "        text-align: right;\n",
       "    }\n",
       "</style>\n",
       "<table border=\"1\" class=\"dataframe\">\n",
       "  <thead>\n",
       "    <tr style=\"text-align: right;\">\n",
       "      <th></th>\n",
       "      <th>SL</th>\n",
       "      <th>SW</th>\n",
       "      <th>PL</th>\n",
       "      <th>PW</th>\n",
       "      <th>Classification</th>\n",
       "    </tr>\n",
       "  </thead>\n",
       "  <tbody>\n",
       "    <tr>\n",
       "      <th>0</th>\n",
       "      <td>5.1</td>\n",
       "      <td>3.5</td>\n",
       "      <td>1.4</td>\n",
       "      <td>0.2</td>\n",
       "      <td>0</td>\n",
       "    </tr>\n",
       "    <tr>\n",
       "      <th>1</th>\n",
       "      <td>4.9</td>\n",
       "      <td>3.0</td>\n",
       "      <td>1.4</td>\n",
       "      <td>0.2</td>\n",
       "      <td>0</td>\n",
       "    </tr>\n",
       "    <tr>\n",
       "      <th>2</th>\n",
       "      <td>5.8</td>\n",
       "      <td>3.2</td>\n",
       "      <td>1.3</td>\n",
       "      <td>0.2</td>\n",
       "      <td>0</td>\n",
       "    </tr>\n",
       "    <tr>\n",
       "      <th>3</th>\n",
       "      <td>4.6</td>\n",
       "      <td>3.1</td>\n",
       "      <td>1.5</td>\n",
       "      <td>0.2</td>\n",
       "      <td>0</td>\n",
       "    </tr>\n",
       "    <tr>\n",
       "      <th>4</th>\n",
       "      <td>5.0</td>\n",
       "      <td>3.6</td>\n",
       "      <td>1.4</td>\n",
       "      <td>0.2</td>\n",
       "      <td>0</td>\n",
       "    </tr>\n",
       "  </tbody>\n",
       "</table>\n",
       "</div>"
      ],
      "text/plain": [
       "    SL   SW   PL   PW  Classification\n",
       "0  5.1  3.5  1.4  0.2               0\n",
       "1  4.9  3.0  1.4  0.2               0\n",
       "2  5.8  3.2  1.3  0.2               0\n",
       "3  4.6  3.1  1.5  0.2               0\n",
       "4  5.0  3.6  1.4  0.2               0"
      ]
     },
     "execution_count": 13,
     "metadata": {},
     "output_type": "execute_result"
    }
   ],
   "source": [
    "data.head()"
   ]
  },
  {
   "cell_type": "code",
   "execution_count": 14,
   "id": "9094b5b6",
   "metadata": {},
   "outputs": [
    {
     "data": {
      "text/html": [
       "<div>\n",
       "<style scoped>\n",
       "    .dataframe tbody tr th:only-of-type {\n",
       "        vertical-align: middle;\n",
       "    }\n",
       "\n",
       "    .dataframe tbody tr th {\n",
       "        vertical-align: top;\n",
       "    }\n",
       "\n",
       "    .dataframe thead th {\n",
       "        text-align: right;\n",
       "    }\n",
       "</style>\n",
       "<table border=\"1\" class=\"dataframe\">\n",
       "  <thead>\n",
       "    <tr style=\"text-align: right;\">\n",
       "      <th></th>\n",
       "      <th>SL</th>\n",
       "      <th>SW</th>\n",
       "      <th>PL</th>\n",
       "      <th>PW</th>\n",
       "      <th>Classification</th>\n",
       "    </tr>\n",
       "  </thead>\n",
       "  <tbody>\n",
       "    <tr>\n",
       "      <th>145</th>\n",
       "      <td>6.7</td>\n",
       "      <td>3.0</td>\n",
       "      <td>5.20</td>\n",
       "      <td>2.3</td>\n",
       "      <td>2</td>\n",
       "    </tr>\n",
       "    <tr>\n",
       "      <th>146</th>\n",
       "      <td>6.3</td>\n",
       "      <td>2.5</td>\n",
       "      <td>5.00</td>\n",
       "      <td>1.9</td>\n",
       "      <td>2</td>\n",
       "    </tr>\n",
       "    <tr>\n",
       "      <th>147</th>\n",
       "      <td>6.5</td>\n",
       "      <td>3.0</td>\n",
       "      <td>4.35</td>\n",
       "      <td>2.0</td>\n",
       "      <td>2</td>\n",
       "    </tr>\n",
       "    <tr>\n",
       "      <th>148</th>\n",
       "      <td>6.2</td>\n",
       "      <td>3.4</td>\n",
       "      <td>5.40</td>\n",
       "      <td>2.3</td>\n",
       "      <td>2</td>\n",
       "    </tr>\n",
       "    <tr>\n",
       "      <th>149</th>\n",
       "      <td>5.9</td>\n",
       "      <td>3.0</td>\n",
       "      <td>5.10</td>\n",
       "      <td>1.8</td>\n",
       "      <td>2</td>\n",
       "    </tr>\n",
       "  </tbody>\n",
       "</table>\n",
       "</div>"
      ],
      "text/plain": [
       "      SL   SW    PL   PW  Classification\n",
       "145  6.7  3.0  5.20  2.3               2\n",
       "146  6.3  2.5  5.00  1.9               2\n",
       "147  6.5  3.0  4.35  2.0               2\n",
       "148  6.2  3.4  5.40  2.3               2\n",
       "149  5.9  3.0  5.10  1.8               2"
      ]
     },
     "execution_count": 14,
     "metadata": {},
     "output_type": "execute_result"
    }
   ],
   "source": [
    "data.tail()"
   ]
  },
  {
   "cell_type": "code",
   "execution_count": 15,
   "id": "158a1b9e",
   "metadata": {
    "scrolled": true
   },
   "outputs": [
    {
     "data": {
      "text/plain": [
       "SL                float64\n",
       "SW                float64\n",
       "PL                float64\n",
       "PW                float64\n",
       "Classification      int32\n",
       "dtype: object"
      ]
     },
     "execution_count": 15,
     "metadata": {},
     "output_type": "execute_result"
    }
   ],
   "source": [
    "# checking dtypes of the datset\n",
    "\n",
    "data.dtypes"
   ]
  },
  {
   "cell_type": "markdown",
   "id": "02a16d93",
   "metadata": {},
   "source": [
    "#### iii. Checking for Outliers"
   ]
  },
  {
   "cell_type": "markdown",
   "id": "e70abed3",
   "metadata": {},
   "source": [
    "#####  a) checking the column 'SL'"
   ]
  },
  {
   "cell_type": "code",
   "execution_count": 16,
   "id": "417de864",
   "metadata": {},
   "outputs": [
    {
     "data": {
      "text/plain": [
       "Text(0.5, 1.0, 'Box plot of SL')"
      ]
     },
     "execution_count": 16,
     "metadata": {},
     "output_type": "execute_result"
    },
    {
     "data": {
      "image/png": "[encoded data removed]",
      "text/plain": [
       "<Figure size 432x288 with 1 Axes>"
      ]
     },
     "metadata": {
      "needs_background": "light"
     },
     "output_type": "display_data"
    }
   ],
   "source": [
    "# plotting boxplot to check for outliers\n",
    "\n",
    "plt.boxplot(data['SL'])\n",
    "plt.title('Box plot of SL')"
   ]
  },
  {
   "cell_type": "markdown",
   "id": "e52fb5fc",
   "metadata": {},
   "source": [
    "#### No ouliers in the column 'SL'."
   ]
  },
  {
   "cell_type": "markdown",
   "id": "f3f2e0dc",
   "metadata": {},
   "source": [
    "#####  b) checking the column 'SW'"
   ]
  },
  {
   "cell_type": "code",
   "execution_count": 17,
   "id": "0d5a859f",
   "metadata": {},
   "outputs": [
    {
     "data": {
      "text/plain": [
       "Text(0.5, 1.0, 'Box plot of SW')"
      ]
     },
     "execution_count": 17,
     "metadata": {},
     "output_type": "execute_result"
    },
    {
     "data": {
      "image/png": "[encoded data removed]",
      "text/plain": [
       "<Figure size 432x288 with 1 Axes>"
      ]
     },
     "metadata": {
      "needs_background": "light"
     },
     "output_type": "display_data"
    }
   ],
   "source": [
    "# plotting boxplot to check for outliers\n",
    "\n",
    "plt.boxplot(data['SW'])\n",
    "plt.title('Box plot of SW')"
   ]
  },
  {
   "cell_type": "code",
   "execution_count": 18,
   "id": "f1c75644",
   "metadata": {},
   "outputs": [],
   "source": [
    "# Finding IQR (Q3-Q1)\n",
    "\n",
    "# The data points that fall below Q1-1.5*IQR and the data points that fall above Q3+1.5*IQR are generally considered as outliers.\n",
    "\n",
    "Q1 = np.percentile(data['SW'], 25, interpolation='midpoint')\n",
    "Q2 = np.percentile(data['SW'], 50, interpolation='midpoint')\n",
    "Q3 = np.percentile(data['SW'], 75, interpolation='midpoint')"
   ]
  },
  {
   "cell_type": "code",
   "execution_count": 19,
   "id": "65af7316",
   "metadata": {},
   "outputs": [
    {
     "name": "stdout",
     "output_type": "stream",
     "text": [
      "2.8\n",
      "3.0\n",
      "3.25\n"
     ]
    }
   ],
   "source": [
    "print(Q1)\n",
    "print(Q2)\n",
    "print(Q3)"
   ]
  },
  {
   "cell_type": "code",
   "execution_count": 20,
   "id": "8f661dfc",
   "metadata": {},
   "outputs": [
    {
     "data": {
      "text/plain": [
       "3.0"
      ]
     },
     "execution_count": 20,
     "metadata": {},
     "output_type": "execute_result"
    }
   ],
   "source": [
    "# Q2 = median\n",
    "\n",
    "data['SW'].median()"
   ]
  },
  {
   "cell_type": "code",
   "execution_count": 21,
   "id": "4c326a16",
   "metadata": {},
   "outputs": [
    {
     "name": "stdout",
     "output_type": "stream",
     "text": [
      "Lower limit is :  2.1249999999999996\n",
      "Upper limit is :  3.9250000000000003\n"
     ]
    }
   ],
   "source": [
    "IQR = Q3-Q1\n",
    "low_lim = Q1-1.5*IQR\n",
    "up_lim = Q3+1.5*IQR\n",
    "print('Lower limit is : ', low_lim)\n",
    "print('Upper limit is : ', up_lim)"
   ]
  },
  {
   "cell_type": "markdown",
   "id": "99eb41ec",
   "metadata": {},
   "source": [
    "#### Findings :\n",
    "\n",
    "#### We can remove all the values that are above 3.925 and below 2.125. To do this, we will create a loop as follows."
   ]
  },
  {
   "cell_type": "code",
   "execution_count": 22,
   "id": "8ecbc623",
   "metadata": {},
   "outputs": [
    {
     "data": {
      "text/plain": [
       "[4.0, 4.4, 4.1, 4.2, 2.0]"
      ]
     },
     "execution_count": 22,
     "metadata": {},
     "output_type": "execute_result"
    }
   ],
   "source": [
    "outlier = []\n",
    "for x in data['SW']:\n",
    "    if ((x>up_lim) or (x<low_lim)):\n",
    "        outlier.append(x)\n",
    "outlier"
   ]
  },
  {
   "cell_type": "code",
   "execution_count": 23,
   "id": "2c0dcfc0",
   "metadata": {},
   "outputs": [
    {
     "data": {
      "text/plain": [
       "Int64Index([14, 15, 32, 33], dtype='int64')"
      ]
     },
     "execution_count": 23,
     "metadata": {},
     "output_type": "execute_result"
    }
   ],
   "source": [
    "# To find the index of the outliers (up_lim)\n",
    "\n",
    "ind1 = data['SW'] > up_lim\n",
    "data.loc[ind1].index"
   ]
  },
  {
   "cell_type": "code",
   "execution_count": 24,
   "id": "fd6a0944",
   "metadata": {},
   "outputs": [
    {
     "data": {
      "text/plain": [
       "Int64Index([60], dtype='int64')"
      ]
     },
     "execution_count": 24,
     "metadata": {},
     "output_type": "execute_result"
    }
   ],
   "source": [
    "# To find the index of the outliers (low_lim)\n",
    "\n",
    "ind1 = data['SW'] < low_lim\n",
    "data.loc[ind1].index"
   ]
  },
  {
   "cell_type": "code",
   "execution_count": 25,
   "id": "eb0695b4",
   "metadata": {},
   "outputs": [],
   "source": [
    "# Dropping the outliers from the dataset (up_lim)\n",
    "\n",
    "data.drop([ 14, 15, 32, 33, 60], inplace=True)"
   ]
  },
  {
   "cell_type": "code",
   "execution_count": 26,
   "id": "be11fad2",
   "metadata": {},
   "outputs": [
    {
     "data": {
      "text/plain": [
       "(145, 5)"
      ]
     },
     "execution_count": 26,
     "metadata": {},
     "output_type": "execute_result"
    }
   ],
   "source": [
    "data.shape"
   ]
  },
  {
   "cell_type": "code",
   "execution_count": 27,
   "id": "a74c46de",
   "metadata": {
    "scrolled": true
   },
   "outputs": [
    {
     "data": {
      "text/plain": [
       "Text(0.5, 1.0, 'Box plot of SW')"
      ]
     },
     "execution_count": 27,
     "metadata": {},
     "output_type": "execute_result"
    },
    {
     "data": {
      "image/png": "[encoded data removed]",
      "text/plain": [
       "<Figure size 432x288 with 1 Axes>"
      ]
     },
     "metadata": {
      "needs_background": "light"
     },
     "output_type": "display_data"
    }
   ],
   "source": [
    "# Plot boxplot to see whether the outliers are reduced\n",
    "\n",
    "plt.boxplot(data['SW'])\n",
    "plt.title('Box plot of SW')"
   ]
  },
  {
   "cell_type": "markdown",
   "id": "61731161",
   "metadata": {},
   "source": [
    "#### Now, the outliers have reduced."
   ]
  },
  {
   "cell_type": "markdown",
   "id": "1ca5e9b4",
   "metadata": {},
   "source": [
    "#####  c) checking the column 'PL'"
   ]
  },
  {
   "cell_type": "code",
   "execution_count": 28,
   "id": "072d2e45",
   "metadata": {
    "scrolled": true
   },
   "outputs": [
    {
     "data": {
      "text/plain": [
       "Text(0.5, 1.0, 'Box plot of PL')"
      ]
     },
     "execution_count": 28,
     "metadata": {},
     "output_type": "execute_result"
    },
    {
     "data": {
      "image/png": "[encoded data removed]",
      "text/plain": [
       "<Figure size 432x288 with 1 Axes>"
      ]
     },
     "metadata": {
      "needs_background": "light"
     },
     "output_type": "display_data"
    }
   ],
   "source": [
    "# plotting boxplot to check for outliers\n",
    "\n",
    "plt.boxplot(data['PL'])\n",
    "plt.title('Box plot of PL')"
   ]
  },
  {
   "cell_type": "markdown",
   "id": "1a011522",
   "metadata": {},
   "source": [
    "#### No ouliers in the column 'PL'."
   ]
  },
  {
   "cell_type": "markdown",
   "id": "3e2a437d",
   "metadata": {},
   "source": [
    "#####  d) checking the column 'PW'"
   ]
  },
  {
   "cell_type": "code",
   "execution_count": 29,
   "id": "8c490f39",
   "metadata": {
    "scrolled": true
   },
   "outputs": [
    {
     "data": {
      "text/plain": [
       "Text(0.5, 1.0, 'Box plot of PW')"
      ]
     },
     "execution_count": 29,
     "metadata": {},
     "output_type": "execute_result"
    },
    {
     "data": {
      "image/png": "[encoded data removed]",
      "text/plain": [
       "<Figure size 432x288 with 1 Axes>"
      ]
     },
     "metadata": {
      "needs_background": "light"
     },
     "output_type": "display_data"
    }
   ],
   "source": [
    "# plotting boxplot to check for outliers\n",
    "\n",
    "plt.boxplot(data['PW'])\n",
    "plt.title('Box plot of PW')"
   ]
  },
  {
   "cell_type": "markdown",
   "id": "e6a5115a",
   "metadata": {},
   "source": [
    "#### No ouliers in the column 'PW'."
   ]
  },
  {
   "cell_type": "code",
   "execution_count": 30,
   "id": "a17d8e62",
   "metadata": {
    "scrolled": true
   },
   "outputs": [
    {
     "data": {
      "text/plain": [
       "<AxesSubplot:>"
      ]
     },
     "execution_count": 30,
     "metadata": {},
     "output_type": "execute_result"
    },
    {
     "data": {
      "image/png": "[encoded data removed]",
      "text/plain": [
       "<Figure size 1440x576 with 2 Axes>"
      ]
     },
     "metadata": {
      "needs_background": "light"
     },
     "output_type": "display_data"
    }
   ],
   "source": [
    "corrmatrix = data.corr()\n",
    "plt.subplots(figsize=(20,8))\n",
    "sns.heatmap(corrmatrix, vmin=0.4, vmax=0.9, annot=True, linewidths=0.2, cmap='YlGnBu')"
   ]
  },
  {
   "cell_type": "code",
   "execution_count": 31,
   "id": "953af76b",
   "metadata": {},
   "outputs": [],
   "source": [
    "y = data['Classification']\n",
    "x = data.drop('Classification', axis=1)"
   ]
  },
  {
   "cell_type": "code",
   "execution_count": 32,
   "id": "f151ed3d",
   "metadata": {
    "scrolled": false
   },
   "outputs": [
    {
     "data": {
      "text/html": [
       "<div>\n",
       "<style scoped>\n",
       "    .dataframe tbody tr th:only-of-type {\n",
       "        vertical-align: middle;\n",
       "    }\n",
       "\n",
       "    .dataframe tbody tr th {\n",
       "        vertical-align: top;\n",
       "    }\n",
       "\n",
       "    .dataframe thead th {\n",
       "        text-align: right;\n",
       "    }\n",
       "</style>\n",
       "<table border=\"1\" class=\"dataframe\">\n",
       "  <thead>\n",
       "    <tr style=\"text-align: right;\">\n",
       "      <th></th>\n",
       "      <th>SL</th>\n",
       "      <th>SW</th>\n",
       "      <th>PL</th>\n",
       "      <th>PW</th>\n",
       "    </tr>\n",
       "  </thead>\n",
       "  <tbody>\n",
       "    <tr>\n",
       "      <th>count</th>\n",
       "      <td>145.000000</td>\n",
       "      <td>145.000000</td>\n",
       "      <td>145.000000</td>\n",
       "      <td>145.000000</td>\n",
       "    </tr>\n",
       "    <tr>\n",
       "      <th>mean</th>\n",
       "      <td>5.867586</td>\n",
       "      <td>3.023448</td>\n",
       "      <td>3.847586</td>\n",
       "      <td>1.226897</td>\n",
       "    </tr>\n",
       "    <tr>\n",
       "      <th>std</th>\n",
       "      <td>0.816827</td>\n",
       "      <td>0.374354</td>\n",
       "      <td>1.712265</td>\n",
       "      <td>0.758219</td>\n",
       "    </tr>\n",
       "    <tr>\n",
       "      <th>min</th>\n",
       "      <td>4.300000</td>\n",
       "      <td>2.200000</td>\n",
       "      <td>1.000000</td>\n",
       "      <td>0.100000</td>\n",
       "    </tr>\n",
       "    <tr>\n",
       "      <th>25%</th>\n",
       "      <td>5.200000</td>\n",
       "      <td>2.800000</td>\n",
       "      <td>1.600000</td>\n",
       "      <td>0.300000</td>\n",
       "    </tr>\n",
       "    <tr>\n",
       "      <th>50%</th>\n",
       "      <td>5.800000</td>\n",
       "      <td>3.000000</td>\n",
       "      <td>4.350000</td>\n",
       "      <td>1.300000</td>\n",
       "    </tr>\n",
       "    <tr>\n",
       "      <th>75%</th>\n",
       "      <td>6.400000</td>\n",
       "      <td>3.200000</td>\n",
       "      <td>5.100000</td>\n",
       "      <td>1.800000</td>\n",
       "    </tr>\n",
       "    <tr>\n",
       "      <th>max</th>\n",
       "      <td>7.900000</td>\n",
       "      <td>3.900000</td>\n",
       "      <td>6.900000</td>\n",
       "      <td>2.500000</td>\n",
       "    </tr>\n",
       "  </tbody>\n",
       "</table>\n",
       "</div>"
      ],
      "text/plain": [
       "               SL          SW          PL          PW\n",
       "count  145.000000  145.000000  145.000000  145.000000\n",
       "mean     5.867586    3.023448    3.847586    1.226897\n",
       "std      0.816827    0.374354    1.712265    0.758219\n",
       "min      4.300000    2.200000    1.000000    0.100000\n",
       "25%      5.200000    2.800000    1.600000    0.300000\n",
       "50%      5.800000    3.000000    4.350000    1.300000\n",
       "75%      6.400000    3.200000    5.100000    1.800000\n",
       "max      7.900000    3.900000    6.900000    2.500000"
      ]
     },
     "execution_count": 32,
     "metadata": {},
     "output_type": "execute_result"
    }
   ],
   "source": [
    "x.describe()"
   ]
  },
  {
   "cell_type": "markdown",
   "id": "fbe8a1ef",
   "metadata": {},
   "source": [
    "#### iv. Min-Max Scaling"
   ]
  },
  {
   "cell_type": "code",
   "execution_count": 33,
   "id": "a110c4c4",
   "metadata": {},
   "outputs": [],
   "source": [
    "from sklearn import preprocessing"
   ]
  },
  {
   "cell_type": "code",
   "execution_count": 34,
   "id": "e7bdc71b",
   "metadata": {},
   "outputs": [],
   "source": [
    "# Min-Max Scaling :\n",
    "\n",
    "min_max = preprocessing.MinMaxScaler(feature_range=(0,1))\n",
    "x = min_max.fit_transform(x)\n",
    "x=pd.DataFrame(x)"
   ]
  },
  {
   "cell_type": "code",
   "execution_count": 35,
   "id": "91f5e56c",
   "metadata": {
    "scrolled": false
   },
   "outputs": [
    {
     "data": {
      "text/html": [
       "<div>\n",
       "<style scoped>\n",
       "    .dataframe tbody tr th:only-of-type {\n",
       "        vertical-align: middle;\n",
       "    }\n",
       "\n",
       "    .dataframe tbody tr th {\n",
       "        vertical-align: top;\n",
       "    }\n",
       "\n",
       "    .dataframe thead th {\n",
       "        text-align: right;\n",
       "    }\n",
       "</style>\n",
       "<table border=\"1\" class=\"dataframe\">\n",
       "  <thead>\n",
       "    <tr style=\"text-align: right;\">\n",
       "      <th></th>\n",
       "      <th>0</th>\n",
       "      <th>1</th>\n",
       "      <th>2</th>\n",
       "      <th>3</th>\n",
       "    </tr>\n",
       "  </thead>\n",
       "  <tbody>\n",
       "    <tr>\n",
       "      <th>count</th>\n",
       "      <td>145.000000</td>\n",
       "      <td>145.000000</td>\n",
       "      <td>145.000000</td>\n",
       "      <td>145.000000</td>\n",
       "    </tr>\n",
       "    <tr>\n",
       "      <th>mean</th>\n",
       "      <td>0.435441</td>\n",
       "      <td>0.484381</td>\n",
       "      <td>0.482642</td>\n",
       "      <td>0.469540</td>\n",
       "    </tr>\n",
       "    <tr>\n",
       "      <th>std</th>\n",
       "      <td>0.226896</td>\n",
       "      <td>0.220208</td>\n",
       "      <td>0.290214</td>\n",
       "      <td>0.315925</td>\n",
       "    </tr>\n",
       "    <tr>\n",
       "      <th>min</th>\n",
       "      <td>0.000000</td>\n",
       "      <td>0.000000</td>\n",
       "      <td>0.000000</td>\n",
       "      <td>0.000000</td>\n",
       "    </tr>\n",
       "    <tr>\n",
       "      <th>25%</th>\n",
       "      <td>0.250000</td>\n",
       "      <td>0.352941</td>\n",
       "      <td>0.101695</td>\n",
       "      <td>0.083333</td>\n",
       "    </tr>\n",
       "    <tr>\n",
       "      <th>50%</th>\n",
       "      <td>0.416667</td>\n",
       "      <td>0.470588</td>\n",
       "      <td>0.567797</td>\n",
       "      <td>0.500000</td>\n",
       "    </tr>\n",
       "    <tr>\n",
       "      <th>75%</th>\n",
       "      <td>0.583333</td>\n",
       "      <td>0.588235</td>\n",
       "      <td>0.694915</td>\n",
       "      <td>0.708333</td>\n",
       "    </tr>\n",
       "    <tr>\n",
       "      <th>max</th>\n",
       "      <td>1.000000</td>\n",
       "      <td>1.000000</td>\n",
       "      <td>1.000000</td>\n",
       "      <td>1.000000</td>\n",
       "    </tr>\n",
       "  </tbody>\n",
       "</table>\n",
       "</div>"
      ],
      "text/plain": [
       "                0           1           2           3\n",
       "count  145.000000  145.000000  145.000000  145.000000\n",
       "mean     0.435441    0.484381    0.482642    0.469540\n",
       "std      0.226896    0.220208    0.290214    0.315925\n",
       "min      0.000000    0.000000    0.000000    0.000000\n",
       "25%      0.250000    0.352941    0.101695    0.083333\n",
       "50%      0.416667    0.470588    0.567797    0.500000\n",
       "75%      0.583333    0.588235    0.694915    0.708333\n",
       "max      1.000000    1.000000    1.000000    1.000000"
      ]
     },
     "execution_count": 35,
     "metadata": {},
     "output_type": "execute_result"
    }
   ],
   "source": [
    "x.describe()"
   ]
  },
  {
   "cell_type": "markdown",
   "id": "05522779",
   "metadata": {},
   "source": [
    "## Insights :\n",
    "\n",
    "#### As part of pre-processing, we have done the below.\n",
    "#### 1) Filled all the null values in the given datatset using the median value.\n",
    "#### 2) Converted the categorical variable ('Classification') to numerical variable using Label Encoding.\n",
    "#### 3) Checked for outliers and handled them.\n",
    "#### 4) Performed min-max scaling on the dataset to scale the values."
   ]
  },
  {
   "cell_type": "markdown",
   "id": "b03c33fb",
   "metadata": {},
   "source": [
    "# 3. Find out which classification model gives the best result to predict iris species(also do random forest algorithm)."
   ]
  },
  {
   "cell_type": "code",
   "execution_count": 36,
   "id": "ebdbd13a",
   "metadata": {},
   "outputs": [],
   "source": [
    "from sklearn.model_selection import train_test_split\n",
    "x_train, x_test, y_train, y_test = train_test_split(x, y, random_state=42, test_size=0.2)"
   ]
  },
  {
   "cell_type": "markdown",
   "id": "c4e12cad",
   "metadata": {},
   "source": [
    "## Random Forest - general form (without tuning any hyperparameters)"
   ]
  },
  {
   "cell_type": "code",
   "execution_count": 37,
   "id": "5b03ff30",
   "metadata": {},
   "outputs": [],
   "source": [
    "from sklearn.ensemble import RandomForestClassifier"
   ]
  },
  {
   "cell_type": "code",
   "execution_count": 38,
   "id": "b6ec3210",
   "metadata": {},
   "outputs": [],
   "source": [
    "rf = RandomForestClassifier()\n",
    "rf.fit(x_train, y_train)\n",
    "y_pred = rf.predict(x_test)"
   ]
  },
  {
   "cell_type": "code",
   "execution_count": 39,
   "id": "30a1cffb",
   "metadata": {},
   "outputs": [],
   "source": [
    "from sklearn.metrics import accuracy_score"
   ]
  },
  {
   "cell_type": "code",
   "execution_count": 40,
   "id": "12d15c72",
   "metadata": {
    "scrolled": false
   },
   "outputs": [
    {
     "name": "stdout",
     "output_type": "stream",
     "text": [
      "Accuracy on Random Forest model is :  0.9310344827586207\n"
     ]
    }
   ],
   "source": [
    "print('Accuracy on Random Forest model is : ', accuracy_score(y_test, y_pred))"
   ]
  },
  {
   "cell_type": "markdown",
   "id": "a25a1790",
   "metadata": {},
   "source": [
    "#### Here, the accuracy of Random Forest model is 93.10%. And this value may change as the training and testing data changes."
   ]
  },
  {
   "cell_type": "markdown",
   "id": "f4172238",
   "metadata": {},
   "source": [
    "#### It is a tedious task to manually try all the possible classification models. Hence, we are proceeding with the below to find the model that gives the best result.\n",
    "#### We will be performing fine tuning on the hyperparameters using GridSearchCV in order to build the most accurate model."
   ]
  },
  {
   "cell_type": "code",
   "execution_count": 41,
   "id": "8e4e5c7b",
   "metadata": {},
   "outputs": [],
   "source": [
    "from sklearn import svm\n",
    "from sklearn.linear_model import LogisticRegression\n",
    "from sklearn.tree import DecisionTreeClassifier\n",
    "from sklearn.neighbors import KNeighborsClassifier\n",
    "from sklearn.model_selection import GridSearchCV"
   ]
  },
  {
   "cell_type": "code",
   "execution_count": 42,
   "id": "26b3a6c5",
   "metadata": {},
   "outputs": [],
   "source": [
    "model_params = {\n",
    "    'SVM' : {\n",
    "        'model' : svm.SVC(gamma='auto'),\n",
    "        'params' : {\n",
    "            'C' : [1,10,20],\n",
    "            'kernel' : ['rbf', 'linear']\n",
    "        }\n",
    "    },\n",
    "    'Random_Forest' : {\n",
    "        'model' : RandomForestClassifier(),\n",
    "        'params' : {\n",
    "            'n_estimators' : [1,5,10]\n",
    "        }\n",
    "    },\n",
    "    'Logistic_Regression' : {\n",
    "        'model' : LogisticRegression(solver='liblinear', multi_class='auto'),\n",
    "        'params' : {\n",
    "            'C' : [1,5,10]\n",
    "        }\n",
    "    }, \n",
    "    'Decision_Tree' : {\n",
    "        'model' : DecisionTreeClassifier(random_state=42),\n",
    "        'params' : {\n",
    "            'max_depth': [2, 3, 5, 10, 20],\n",
    "            'min_samples_leaf': [5, 10, 20, 50, 100],\n",
    "            'criterion': [\"gini\", \"entropy\"]\n",
    "        }\n",
    "    },\n",
    "    'kNN' : {\n",
    "        'model' : KNeighborsClassifier(),\n",
    "        'params' : {\n",
    "            'n_neighbors' : [5,7,9,11,13,15],\n",
    "            'weights' : ['uniform','distance'],\n",
    "            'metric' : ['minkowski','euclidean','manhattan']\n",
    "        }\n",
    "    }\n",
    "}"
   ]
  },
  {
   "cell_type": "code",
   "execution_count": 43,
   "id": "5d42e595",
   "metadata": {},
   "outputs": [],
   "source": [
    "scores = []\n",
    "\n",
    "for model_name, mp in model_params.items():\n",
    "    clf = GridSearchCV(mp['model'], mp['params'], cv=5, return_train_score=False)\n",
    "    clf.fit(x_train, y_train)\n",
    "    scores.append({\n",
    "        'model' : model_name,\n",
    "        'best_score' : clf.best_score_,\n",
    "        'best_params' : clf.best_params_\n",
    "    })"
   ]
  },
  {
   "cell_type": "code",
   "execution_count": 44,
   "id": "58b15755",
   "metadata": {
    "scrolled": false
   },
   "outputs": [
    {
     "data": {
      "text/html": [
       "<style  type=\"text/css\" >\n",
       "#T_e90aa_row0_col2,#T_e90aa_row1_col2,#T_e90aa_row2_col2,#T_e90aa_row3_col2,#T_e90aa_row4_col2{\n",
       "            width-min:  300px;\n",
       "        }</style><table id=\"T_e90aa_\" ><thead>    <tr>        <th class=\"blank level0\" ></th>        <th class=\"col_heading level0 col0\" >model</th>        <th class=\"col_heading level0 col1\" >best_score</th>        <th class=\"col_heading level0 col2\" >best_params</th>    </tr></thead><tbody>\n",
       "                <tr>\n",
       "                        <th id=\"T_e90aa_level0_row0\" class=\"row_heading level0 row0\" >0</th>\n",
       "                        <td id=\"T_e90aa_row0_col0\" class=\"data row0 col0\" >SVM</td>\n",
       "                        <td id=\"T_e90aa_row0_col1\" class=\"data row0 col1\" >0.974275</td>\n",
       "                        <td id=\"T_e90aa_row0_col2\" class=\"data row0 col2\" >{'C': 1, 'kernel': 'linear'}</td>\n",
       "            </tr>\n",
       "            <tr>\n",
       "                        <th id=\"T_e90aa_level0_row1\" class=\"row_heading level0 row1\" >1</th>\n",
       "                        <td id=\"T_e90aa_row1_col0\" class=\"data row1 col0\" >Random_Forest</td>\n",
       "                        <td id=\"T_e90aa_row1_col1\" class=\"data row1 col1\" >0.957246</td>\n",
       "                        <td id=\"T_e90aa_row1_col2\" class=\"data row1 col2\" >{'n_estimators': 5}</td>\n",
       "            </tr>\n",
       "            <tr>\n",
       "                        <th id=\"T_e90aa_level0_row2\" class=\"row_heading level0 row2\" >2</th>\n",
       "                        <td id=\"T_e90aa_row2_col0\" class=\"data row2 col0\" >Logistic_Regression</td>\n",
       "                        <td id=\"T_e90aa_row2_col1\" class=\"data row2 col1\" >0.931522</td>\n",
       "                        <td id=\"T_e90aa_row2_col2\" class=\"data row2 col2\" >{'C': 10}</td>\n",
       "            </tr>\n",
       "            <tr>\n",
       "                        <th id=\"T_e90aa_level0_row3\" class=\"row_heading level0 row3\" >3</th>\n",
       "                        <td id=\"T_e90aa_row3_col0\" class=\"data row3 col0\" >Decision_Tree</td>\n",
       "                        <td id=\"T_e90aa_row3_col1\" class=\"data row3 col1\" >0.957246</td>\n",
       "                        <td id=\"T_e90aa_row3_col2\" class=\"data row3 col2\" >{'criterion': 'gini', 'max_depth': 2, 'min_samples_leaf': 5}</td>\n",
       "            </tr>\n",
       "            <tr>\n",
       "                        <th id=\"T_e90aa_level0_row4\" class=\"row_heading level0 row4\" >4</th>\n",
       "                        <td id=\"T_e90aa_row4_col0\" class=\"data row4 col0\" >kNN</td>\n",
       "                        <td id=\"T_e90aa_row4_col1\" class=\"data row4 col1\" >0.991667</td>\n",
       "                        <td id=\"T_e90aa_row4_col2\" class=\"data row4 col2\" >{'metric': 'minkowski', 'n_neighbors': 9, 'weights': 'distance'}</td>\n",
       "            </tr>\n",
       "    </tbody></table>"
      ],
      "text/plain": [
       "<pandas.io.formats.style.Styler at 0x22d7aebd5e0>"
      ]
     },
     "execution_count": 44,
     "metadata": {},
     "output_type": "execute_result"
    }
   ],
   "source": [
    "df1 = pd.DataFrame(scores, columns=['model', 'best_score', 'best_params'])\n",
    "df1 = df1.style.set_properties(subset=['best_params'], **{'width-min': '300px'})\n",
    "df1"
   ]
  },
  {
   "cell_type": "code",
   "execution_count": 45,
   "id": "4b0f179f",
   "metadata": {
    "scrolled": true
   },
   "outputs": [
    {
     "data": {
      "text/plain": [
       "['__abstractmethods__',\n",
       " '__class__',\n",
       " '__delattr__',\n",
       " '__dict__',\n",
       " '__dir__',\n",
       " '__doc__',\n",
       " '__eq__',\n",
       " '__format__',\n",
       " '__ge__',\n",
       " '__getattribute__',\n",
       " '__getstate__',\n",
       " '__gt__',\n",
       " '__hash__',\n",
       " '__init__',\n",
       " '__init_subclass__',\n",
       " '__le__',\n",
       " '__lt__',\n",
       " '__module__',\n",
       " '__ne__',\n",
       " '__new__',\n",
       " '__reduce__',\n",
       " '__reduce_ex__',\n",
       " '__repr__',\n",
       " '__setattr__',\n",
       " '__setstate__',\n",
       " '__sizeof__',\n",
       " '__str__',\n",
       " '__subclasshook__',\n",
       " '__weakref__',\n",
       " '_abc_impl',\n",
       " '_check_is_fitted',\n",
       " '_check_n_features',\n",
       " '_check_refit_for_multimetric',\n",
       " '_estimator_type',\n",
       " '_format_results',\n",
       " '_get_param_names',\n",
       " '_get_tags',\n",
       " '_more_tags',\n",
       " '_pairwise',\n",
       " '_repr_html_',\n",
       " '_repr_html_inner',\n",
       " '_repr_mimebundle_',\n",
       " '_required_parameters',\n",
       " '_run_search',\n",
       " '_validate_data',\n",
       " 'best_estimator_',\n",
       " 'best_index_',\n",
       " 'best_params_',\n",
       " 'best_score_',\n",
       " 'classes_',\n",
       " 'cv',\n",
       " 'cv_results_',\n",
       " 'decision_function',\n",
       " 'error_score',\n",
       " 'estimator',\n",
       " 'fit',\n",
       " 'get_params',\n",
       " 'inverse_transform',\n",
       " 'multimetric_',\n",
       " 'n_features_in_',\n",
       " 'n_jobs',\n",
       " 'n_splits_',\n",
       " 'param_grid',\n",
       " 'pre_dispatch',\n",
       " 'predict',\n",
       " 'predict_log_proba',\n",
       " 'predict_proba',\n",
       " 'refit',\n",
       " 'refit_time_',\n",
       " 'return_train_score',\n",
       " 'score',\n",
       " 'score_samples',\n",
       " 'scorer_',\n",
       " 'scoring',\n",
       " 'set_params',\n",
       " 'transform',\n",
       " 'verbose']"
      ]
     },
     "execution_count": 45,
     "metadata": {},
     "output_type": "execute_result"
    }
   ],
   "source": [
    "dir(clf)"
   ]
  },
  {
   "cell_type": "code",
   "execution_count": 46,
   "id": "b1bb0cfc",
   "metadata": {},
   "outputs": [
    {
     "data": {
      "text/plain": [
       "KNeighborsClassifier(n_neighbors=9, weights='distance')"
      ]
     },
     "execution_count": 46,
     "metadata": {},
     "output_type": "execute_result"
    }
   ],
   "source": [
    "clf.best_estimator_"
   ]
  },
  {
   "cell_type": "code",
   "execution_count": 47,
   "id": "9029a210",
   "metadata": {},
   "outputs": [
    {
     "data": {
      "text/plain": [
       "0.9916666666666668"
      ]
     },
     "execution_count": 47,
     "metadata": {},
     "output_type": "execute_result"
    }
   ],
   "source": [
    "clf.best_score_"
   ]
  },
  {
   "cell_type": "code",
   "execution_count": 48,
   "id": "26998ce2",
   "metadata": {},
   "outputs": [
    {
     "data": {
      "text/plain": [
       "{'metric': 'minkowski', 'n_neighbors': 9, 'weights': 'distance'}"
      ]
     },
     "execution_count": 48,
     "metadata": {},
     "output_type": "execute_result"
    }
   ],
   "source": [
    "clf.best_params_"
   ]
  },
  {
   "cell_type": "markdown",
   "id": "a35c3eae",
   "metadata": {},
   "source": [
    "# Insights :\n",
    "\n",
    "#### From the above table, it can be concluded that the kNN model gives the best_score when compared to the other models. The best_score provided by kNN is 99.17%. Hence, the model is highly efficient.\n"
   ]
  }
 ],
 "metadata": {
  "kernelspec": {
   "display_name": "Python 3",
   "language": "python",
   "name": "python3"
  },
  "language_info": {
   "codemirror_mode": {
    "name": "ipython",
    "version": 3
   },
   "file_extension": ".py",
   "mimetype": "text/x-python",
   "name": "python",
   "nbconvert_exporter": "python",
   "pygments_lexer": "ipython3",
   "version": "3.8.8"
  }
 },
 "nbformat": 4,
 "nbformat_minor": 5
}
