{
 "cells": [
  {
   "cell_type": "markdown",
   "id": "55cc99e8",
   "metadata": {},
   "source": [
    "# Case Study_Week07\n",
    "\n",
    "#### Data Set used : StudentsPerformance\n",
    "#### 205 rows × 7 columns"
   ]
  },
  {
   "cell_type": "code",
   "execution_count": 1,
   "id": "a9d44521",
   "metadata": {},
   "outputs": [],
   "source": [
    "import pandas as pd\n",
    "import numpy as np\n",
    "import matplotlib.pyplot as plt\n",
    "import seaborn as sns"
   ]
  },
  {
   "cell_type": "code",
   "execution_count": 2,
   "id": "2154ffdb",
   "metadata": {
    "scrolled": true
   },
   "outputs": [],
   "source": [
    "data=pd.read_csv('Add_sales_data_2018.csv')"
   ]
  },
  {
   "cell_type": "code",
   "execution_count": 3,
   "id": "1cdd5e03",
   "metadata": {},
   "outputs": [
    {
     "data": {
      "text/html": [
       "<div>\n",
       "<style scoped>\n",
       "    .dataframe tbody tr th:only-of-type {\n",
       "        vertical-align: middle;\n",
       "    }\n",
       "\n",
       "    .dataframe tbody tr th {\n",
       "        vertical-align: top;\n",
       "    }\n",
       "\n",
       "    .dataframe thead th {\n",
       "        text-align: right;\n",
       "    }\n",
       "</style>\n",
       "<table border=\"1\" class=\"dataframe\">\n",
       "  <thead>\n",
       "    <tr style=\"text-align: right;\">\n",
       "      <th></th>\n",
       "      <th>Date</th>\n",
       "      <th>Add1(in Thousands)</th>\n",
       "      <th>Add2(in Thousands)</th>\n",
       "      <th>Add3(in Thousands)</th>\n",
       "      <th>Add4(in Thousands)</th>\n",
       "      <th>Add5(in Thousands)</th>\n",
       "      <th>Profit(in Thousands)</th>\n",
       "    </tr>\n",
       "  </thead>\n",
       "  <tbody>\n",
       "    <tr>\n",
       "      <th>0</th>\n",
       "      <td>2018-10-08</td>\n",
       "      <td>208.00</td>\n",
       "      <td>222.25</td>\n",
       "      <td>206.85</td>\n",
       "      <td>216.00</td>\n",
       "      <td>215.15</td>\n",
       "      <td>4093.065</td>\n",
       "    </tr>\n",
       "    <tr>\n",
       "      <th>1</th>\n",
       "      <td>2018-10-05</td>\n",
       "      <td>217.00</td>\n",
       "      <td>218.60</td>\n",
       "      <td>205.90</td>\n",
       "      <td>210.25</td>\n",
       "      <td>209.20</td>\n",
       "      <td>4042.448</td>\n",
       "    </tr>\n",
       "    <tr>\n",
       "      <th>2</th>\n",
       "      <td>2018-10-04</td>\n",
       "      <td>223.50</td>\n",
       "      <td>227.80</td>\n",
       "      <td>216.15</td>\n",
       "      <td>217.25</td>\n",
       "      <td>218.20</td>\n",
       "      <td>4213.819</td>\n",
       "    </tr>\n",
       "    <tr>\n",
       "      <th>3</th>\n",
       "      <td>2018-10-03</td>\n",
       "      <td>230.00</td>\n",
       "      <td>237.50</td>\n",
       "      <td>225.75</td>\n",
       "      <td>226.45</td>\n",
       "      <td>227.60</td>\n",
       "      <td>4391.665</td>\n",
       "    </tr>\n",
       "    <tr>\n",
       "      <th>4</th>\n",
       "      <td>2018-10-01</td>\n",
       "      <td>234.55</td>\n",
       "      <td>234.60</td>\n",
       "      <td>221.05</td>\n",
       "      <td>230.30</td>\n",
       "      <td>230.90</td>\n",
       "      <td>4350.683</td>\n",
       "    </tr>\n",
       "  </tbody>\n",
       "</table>\n",
       "</div>"
      ],
      "text/plain": [
       "         Date  Add1(in Thousands)  Add2(in Thousands)  Add3(in Thousands)  \\\n",
       "0  2018-10-08              208.00              222.25              206.85   \n",
       "1  2018-10-05              217.00              218.60              205.90   \n",
       "2  2018-10-04              223.50              227.80              216.15   \n",
       "3  2018-10-03              230.00              237.50              225.75   \n",
       "4  2018-10-01              234.55              234.60              221.05   \n",
       "\n",
       "   Add4(in Thousands)  Add5(in Thousands)  Profit(in Thousands)  \n",
       "0              216.00              215.15              4093.065  \n",
       "1              210.25              209.20              4042.448  \n",
       "2              217.25              218.20              4213.819  \n",
       "3              226.45              227.60              4391.665  \n",
       "4              230.30              230.90              4350.683  "
      ]
     },
     "execution_count": 3,
     "metadata": {},
     "output_type": "execute_result"
    }
   ],
   "source": [
    "data.head()"
   ]
  },
  {
   "cell_type": "code",
   "execution_count": 4,
   "id": "fa773e10",
   "metadata": {},
   "outputs": [
    {
     "data": {
      "text/plain": [
       "(205, 7)"
      ]
     },
     "execution_count": 4,
     "metadata": {},
     "output_type": "execute_result"
    }
   ],
   "source": [
    "data.shape"
   ]
  },
  {
   "cell_type": "code",
   "execution_count": 5,
   "id": "e2200e9f",
   "metadata": {
    "scrolled": false
   },
   "outputs": [
    {
     "name": "stdout",
     "output_type": "stream",
     "text": [
      "<class 'pandas.core.frame.DataFrame'>\n",
      "RangeIndex: 205 entries, 0 to 204\n",
      "Data columns (total 7 columns):\n",
      " #   Column                Non-Null Count  Dtype  \n",
      "---  ------                --------------  -----  \n",
      " 0   Date                  205 non-null    object \n",
      " 1   Add1(in Thousands)    205 non-null    float64\n",
      " 2   Add2(in Thousands)    205 non-null    float64\n",
      " 3   Add3(in Thousands)    205 non-null    float64\n",
      " 4   Add4(in Thousands)    205 non-null    float64\n",
      " 5   Add5(in Thousands)    205 non-null    float64\n",
      " 6   Profit(in Thousands)  205 non-null    float64\n",
      "dtypes: float64(6), object(1)\n",
      "memory usage: 11.3+ KB\n"
     ]
    }
   ],
   "source": [
    "data.info()"
   ]
  },
  {
   "cell_type": "markdown",
   "id": "52f486c0",
   "metadata": {},
   "source": [
    "# 1. First of all, check whether there is any relationship between the amount spent for advertising through five different companies and profit generated."
   ]
  },
  {
   "cell_type": "code",
   "execution_count": 6,
   "id": "fd66a572",
   "metadata": {
    "scrolled": true
   },
   "outputs": [
    {
     "data": {
      "text/plain": [
       "<AxesSubplot:>"
      ]
     },
     "execution_count": 6,
     "metadata": {},
     "output_type": "execute_result"
    },
    {
     "data": {
      "image/png": "[encoded data removed]",
      "text/plain": [
       "<Figure size 720x288 with 2 Axes>"
      ]
     },
     "metadata": {
      "needs_background": "light"
     },
     "output_type": "display_data"
    }
   ],
   "source": [
    "corrmatrix=data.corr()\n",
    "plt.subplots(figsize=(10,4))\n",
    "sns.heatmap(corrmatrix, vmin=-3, vmax=2, annot=True, linewidths=0.2, cmap='YlGnBu')"
   ]
  },
  {
   "cell_type": "markdown",
   "id": "362b2371",
   "metadata": {},
   "source": [
    "# Insights :\n",
    "\n",
    "#### Profit is highly correlated with the amount spent by all the five different companies. Each company shows high positive correlation with the profit.\n",
    "\n",
    "#### The correlation values are as below :\n",
    "\n",
    "#### Profit(in Thousands) vs Add1(in Thousands) : 0.99\n",
    "#### Profit(in Thousands) vs Add2(in Thousands) : 1\n",
    "#### Profit(in Thousands) vs Add3(in Thousands) : 0.99\n",
    "#### Profit(in Thousands) vs Add4(in Thousands) : 0.99\n",
    "#### Profit(in Thousands) vs Add5(in Thousands) : 0.99"
   ]
  },
  {
   "cell_type": "markdown",
   "id": "f913a03e",
   "metadata": {},
   "source": [
    "# 2. Build a regression model to predict the profit from the given data and comment your findings on it."
   ]
  },
  {
   "cell_type": "code",
   "execution_count": 7,
   "id": "883e109f",
   "metadata": {
    "scrolled": true
   },
   "outputs": [
    {
     "data": {
      "text/plain": [
       "Index(['Date', 'Add1(in Thousands)', 'Add2(in Thousands)',\n",
       "       'Add3(in Thousands)', 'Add4(in Thousands)', 'Add5(in Thousands)',\n",
       "       'Profit(in Thousands)'],\n",
       "      dtype='object')"
      ]
     },
     "execution_count": 7,
     "metadata": {},
     "output_type": "execute_result"
    }
   ],
   "source": [
    "data.columns"
   ]
  },
  {
   "cell_type": "code",
   "execution_count": 8,
   "id": "5c0a343e",
   "metadata": {},
   "outputs": [
    {
     "data": {
      "text/plain": [
       "Index(['Add1(in Thousands)', 'Add2(in Thousands)', 'Add3(in Thousands)',\n",
       "       'Add4(in Thousands)', 'Add5(in Thousands)', 'Profit(in Thousands)'],\n",
       "      dtype='object')"
      ]
     },
     "execution_count": 8,
     "metadata": {},
     "output_type": "execute_result"
    }
   ],
   "source": [
    "data1=data.drop(['Date'], axis=1)\n",
    "data1.columns"
   ]
  },
  {
   "cell_type": "code",
   "execution_count": 9,
   "id": "718f4aa0",
   "metadata": {},
   "outputs": [],
   "source": [
    "y=data1['Profit(in Thousands)']\n",
    "x=data1.drop(['Profit(in Thousands)'], axis=1)"
   ]
  },
  {
   "cell_type": "code",
   "execution_count": 10,
   "id": "b11ad6bf",
   "metadata": {},
   "outputs": [],
   "source": [
    "from sklearn.model_selection import train_test_split\n",
    "x_train, x_test, y_train, y_test=train_test_split(x, y, random_state=42, test_size=0.25)"
   ]
  },
  {
   "cell_type": "code",
   "execution_count": 11,
   "id": "2f2edc92",
   "metadata": {},
   "outputs": [],
   "source": [
    "from sklearn import linear_model\n",
    "lr=linear_model.LinearRegression()"
   ]
  },
  {
   "cell_type": "code",
   "execution_count": 12,
   "id": "0d6ead02",
   "metadata": {},
   "outputs": [],
   "source": [
    "model=lr.fit(x_train, y_train)"
   ]
  },
  {
   "cell_type": "code",
   "execution_count": 13,
   "id": "f96769c3",
   "metadata": {},
   "outputs": [],
   "source": [
    "predictions=model.predict(x_test)"
   ]
  },
  {
   "cell_type": "code",
   "execution_count": 14,
   "id": "ffbfff5f",
   "metadata": {
    "scrolled": true
   },
   "outputs": [
    {
     "name": "stdout",
     "output_type": "stream",
     "text": [
      "15     4152.066\n",
      "9      4446.441\n",
      "100    5131.898\n",
      "132    4907.560\n",
      "68     5004.282\n",
      "95     4623.793\n",
      "159    5384.175\n",
      "162    5328.025\n",
      "147    5175.051\n",
      "182    5956.323\n",
      "191    5780.799\n",
      "164    4997.719\n",
      "65     5075.858\n",
      "175    5784.540\n",
      "73     4936.120\n",
      "152    5065.652\n",
      "18     4190.965\n",
      "82     5034.726\n",
      "86     5015.536\n",
      "143    5134.657\n",
      "60     5145.131\n",
      "101    5421.940\n",
      "98     4569.293\n",
      "30     4598.292\n",
      "25     4436.321\n",
      "16     4175.677\n",
      "168    5616.791\n",
      "195    5667.250\n",
      "97     4648.834\n",
      "194    5717.838\n",
      "67     5001.615\n",
      "120    5182.368\n",
      "154    5017.503\n",
      "202    5545.013\n",
      "79     5013.207\n",
      "69     5030.451\n",
      "145    5108.626\n",
      "55     4760.877\n",
      "45     4606.340\n",
      "84     4925.861\n",
      "146    5250.788\n",
      "66     5038.222\n",
      "111    5491.792\n",
      "153    5019.997\n",
      "96     4647.356\n",
      "38     4486.380\n",
      "24     4435.174\n",
      "139    5300.437\n",
      "112    5425.190\n",
      "29     4482.183\n",
      "19     4193.095\n",
      "178    6062.457\n",
      "Name: Profit(in Thousands), dtype: float64\n"
     ]
    }
   ],
   "source": [
    "print(y_test)"
   ]
  },
  {
   "cell_type": "code",
   "execution_count": 15,
   "id": "c985c97d",
   "metadata": {
    "scrolled": true
   },
   "outputs": [
    {
     "name": "stdout",
     "output_type": "stream",
     "text": [
      "[4152.066 4446.441 5131.898 4907.56  5004.282 4623.793 5384.175 5328.025\n",
      " 5175.051 5956.323 5780.799 4997.719 5075.858 5784.54  4936.12  5065.652\n",
      " 4190.965 5034.726 5015.536 5134.657 5145.131 5421.94  4569.293 4598.292\n",
      " 4436.321 4175.677 5616.791 5667.25  4648.834 5717.838 5001.615 5182.368\n",
      " 5017.503 5545.013 5013.207 5030.451 5108.626 4760.877 4606.34  4925.861\n",
      " 5250.788 5038.222 5491.792 5019.997 4647.356 4486.38  4435.174 5300.437\n",
      " 5425.19  4482.183 4193.095 6062.457]\n"
     ]
    }
   ],
   "source": [
    "print(predictions)"
   ]
  },
  {
   "cell_type": "code",
   "execution_count": 16,
   "id": "4a458d3b",
   "metadata": {},
   "outputs": [],
   "source": [
    "from sklearn.metrics import mean_squared_error"
   ]
  },
  {
   "cell_type": "code",
   "execution_count": 17,
   "id": "15214f0c",
   "metadata": {},
   "outputs": [
    {
     "name": "stdout",
     "output_type": "stream",
     "text": [
      "MSE is :  3.8177566733216664e-25\n"
     ]
    }
   ],
   "source": [
    "print('MSE is : ', mean_squared_error(y_test, predictions))"
   ]
  },
  {
   "cell_type": "markdown",
   "id": "0cd54c40",
   "metadata": {},
   "source": [
    "# Insights :\n",
    "\n",
    "#### Here, MSE is 3.8177566733216664e-25. MSE is having a very low value and it shows that the model is good and is highly efficient. Hence, this model will be able to predict accurate results."
   ]
  },
  {
   "cell_type": "markdown",
   "id": "e7bdf7d1",
   "metadata": {},
   "source": [
    "# 3. Predict the profit generated by the company, if they wish to spend the following amount for advertisement.\n",
    "\n",
    "#### Add1(in Thousands) 290\n",
    "#### Add2(in Thousands) 312\n",
    "#### Add3(in Thousands) 309\n",
    "#### Add4(in Thousands) 298\n",
    "#### Add5(in Thousands) 320"
   ]
  },
  {
   "cell_type": "code",
   "execution_count": 18,
   "id": "4c40c092",
   "metadata": {},
   "outputs": [
    {
     "name": "stdout",
     "output_type": "stream",
     "text": [
      "The predicted profit is :  5820.060000000001\n"
     ]
    }
   ],
   "source": [
    "make_pred=[[290, 312, 309, 298, 320]]\n",
    "a=model.predict(make_pred).item()\n",
    "print('The predicted profit is : ', a)"
   ]
  },
  {
   "cell_type": "markdown",
   "id": "585a49db",
   "metadata": {},
   "source": [
    "# Insights :\n",
    "\n",
    "#### The profit predicted for the above values using this model is 5820.060000000001.\n",
    "#### This value can be considered as accurate as our model is having very low MSE value."
   ]
  }
 ],
 "metadata": {
  "kernelspec": {
   "display_name": "Python 3",
   "language": "python",
   "name": "python3"
  },
  "language_info": {
   "codemirror_mode": {
    "name": "ipython",
    "version": 3
   },
   "file_extension": ".py",
   "mimetype": "text/x-python",
   "name": "python",
   "nbconvert_exporter": "python",
   "pygments_lexer": "ipython3",
   "version": "3.8.8"
  }
 },
 "nbformat": 4,
 "nbformat_minor": 5
}
